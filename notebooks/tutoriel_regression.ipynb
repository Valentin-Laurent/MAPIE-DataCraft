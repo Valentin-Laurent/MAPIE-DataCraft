{
 "cells": [
  {
   "cell_type": "markdown",
   "id": "0",
   "metadata": {},
   "source": [
    "# Mesure de l'incertitude d'un modèle de régression avec MAPIE\n",
    "---\n",
    "\n",
    "Dans ce TP, nous allons estimer des intervalles de prédiction avec MAPIE.\n",
    "\n",
    "Nous allons pouvoir déterminer la validité de nos intervalles de prédiction via deux métriques :\n",
    "\n",
    "- la couverture \"effective\", qui est le pourcentage de données de test incluses dans les intervalles de prédiction. Par exemple, pour un niveau de confiance cible de 90%, il faut que 90% des données de test soit comprises dans les intervalles produits.\n",
    "- la largeur moyenne des intervalles de prédiction qui doit être la plus proche possible de la largeur \"théorique\" ayant servi à générer le bruit de données."
   ]
  },
  {
   "cell_type": "markdown",
   "id": "1",
   "metadata": {},
   "source": [
    "# Import"
   ]
  },
  {
   "cell_type": "code",
   "execution_count": null,
   "id": "2",
   "metadata": {},
   "outputs": [],
   "source": [
    "from sklearn.model_selection import train_test_split\n",
    "from sklearn.pipeline import Pipeline\n",
    "from sklearn.preprocessing import PolynomialFeatures\n",
    "from sklearn.linear_model import LinearRegression, QuantileRegressor\n",
    "from mapie.metrics import regression_coverage_score, regression_mean_width_score\n",
    "from mapie_v1.regression import CrossConformalRegressor, ConformalizedQuantileRegressor\n",
    "\n",
    "from utils.dataset import (\n",
    "    x_sinx,\n",
    "    get_1d_data_with_constant_noise,\n",
    "    get_1d_data_with_heteroscedastic_noise,\n",
    "    get_1d_data_with_normal_distribution,\n",
    ")\n",
    "from utils.viz import (\n",
    "    plot_regression,\n",
    "    plot_uncertainties,\n",
    "    plot_prediction_interval_width,\n",
    ")"
   ]
  },
  {
   "cell_type": "markdown",
   "id": "3",
   "metadata": {},
   "source": [
    "# L'incertitude en régression"
   ]
  },
  {
   "cell_type": "markdown",
   "id": "4",
   "metadata": {},
   "source": [
    "## Bruit homoscédastique"
   ]
  },
  {
   "cell_type": "markdown",
   "id": "5",
   "metadata": {},
   "source": [
    "Commençons ici par construire un jeu de données artificiel. Nous utiliserons la fonction $f(x) = x\\sin(x)$ à laquelle nous ajoutons un bruit gaussien constant."
   ]
  },
  {
   "cell_type": "code",
   "execution_count": null,
   "id": "6",
   "metadata": {},
   "outputs": [],
   "source": [
    "X, y, X_test, y_test, y_mesh = get_1d_data_with_constant_noise(\n",
    "    funct=x_sinx,\n",
    "    min_x=-5,\n",
    "    max_x=5,\n",
    "    n_samples=600,\n",
    "    noise=0.5\n",
    ")"
   ]
  },
  {
   "cell_type": "markdown",
   "id": "7",
   "metadata": {},
   "source": [
    "Visualisons le jeu de données et leur fonction génératrice."
   ]
  },
  {
   "cell_type": "code",
   "execution_count": null,
   "id": "8",
   "metadata": {},
   "outputs": [],
   "source": [
    "plot_regression(\n",
    "    X_test,\n",
    "    y_test,\n",
    "    y_mesh,\n",
    "    name_mesh=\"Génératrice\",\n",
    "    title=\"Problème homoscédastique\",\n",
    ")"
   ]
  },
  {
   "cell_type": "markdown",
   "id": "9",
   "metadata": {},
   "source": [
    "Nous allons apprend un modèle polynomial pour ajuster les données."
   ]
  },
  {
   "cell_type": "code",
   "execution_count": null,
   "id": "10",
   "metadata": {},
   "outputs": [],
   "source": [
    "polyn_model = Pipeline(\n",
    "    [\n",
    "        (\"poly\", PolynomialFeatures(degree=10)),\n",
    "        (\"linear\", LinearRegression())\n",
    "    ]\n",
    ")"
   ]
  },
  {
   "cell_type": "markdown",
   "id": "11",
   "metadata": {},
   "source": [
    "**Exercice 1** : On souhaite à présent entraîner ce modèle via MAPIE et obtenir des intervalles de confiance à 95%.\n",
    "- Instancier un `CrossConformalRegressor` enrobant notre modèle polynomial avec la méthode CV+ avec 5 plis de validation croisée.\n",
    "- Entraîner et conformaliser le `CrossConformalRegressor` sur le jeu de données\n",
    "- Prédire sur le jeu de test avec un niveau de risque de 5%"
   ]
  },
  {
   "cell_type": "code",
   "execution_count": null,
   "id": "12",
   "metadata": {},
   "outputs": [],
   "source": []
  },
  {
   "cell_type": "markdown",
   "id": "13",
   "metadata": {},
   "source": [
    "Visualisons les intervalles de prédictions obtenus sur le jeu de test."
   ]
  },
  {
   "cell_type": "code",
   "execution_count": null,
   "id": "14",
   "metadata": {},
   "outputs": [],
   "source": [
    "plot_uncertainties(\n",
    "    X_test,\n",
    "    y_test,\n",
    "    y_preds,\n",
    "    y_pred_intervals,\n",
    "    title=\"Intervalles de prédiction avec niveau de confiance de 95%\"\n",
    ")"
   ]
  },
  {
   "cell_type": "markdown",
   "id": "15",
   "metadata": {},
   "source": [
    "Visualisons la largeur de l'intervalle de prédictions en fonction de $x$."
   ]
  },
  {
   "cell_type": "code",
   "execution_count": null,
   "id": "16",
   "metadata": {},
   "outputs": [],
   "source": [
    "plot_prediction_interval_width(\n",
    "    X_test,\n",
    "    y_pred_intervals,\n",
    "    title=\"Largeur des intervalles de prédictions\",\n",
    "    yaxis_title=\"Largeur\"\n",
    ")"
   ]
  },
  {
   "cell_type": "markdown",
   "id": "17",
   "metadata": {},
   "source": [
    "Ici on voit que l'intervalle de confiance est à peu près constant, et c'est normal au vu de l'homoscédasticité du problème !\n",
    "\n",
    "**Exercice 2** : calculer les métriques d'incertitudes :\n",
    "- le taux de couverture (`regression_coverage_score`)\n",
    "- la taille moyenne des intervalles de prédiction (`regression_mean_width_score`)\n",
    "- a-t-on bien atteint le taux de couverture cible de 95% ?\n",
    "- la taille théorique des intervalles est `1.96`. La taille moyenne des intervalles prédit par MAPIE est-elle supérieure ? Inférieure ?"
   ]
  },
  {
   "cell_type": "code",
   "execution_count": null,
   "id": "18",
   "metadata": {},
   "outputs": [],
   "source": []
  },
  {
   "cell_type": "markdown",
   "id": "19",
   "metadata": {},
   "source": [
    "## Bruit hétéroscédastique"
   ]
  },
  {
   "cell_type": "markdown",
   "id": "20",
   "metadata": {},
   "source": [
    "Commençons ici par construire un jeu de données artificiel. Nous utiliserons la fonction $f(x) = x\\sin(x)$ à laquelle nous ajoutons un bruit gaussien proportionnel à $x$."
   ]
  },
  {
   "cell_type": "code",
   "execution_count": null,
   "id": "21",
   "metadata": {},
   "outputs": [],
   "source": [
    "X, y, X_test, y_test, y_mesh = get_1d_data_with_heteroscedastic_noise(\n",
    "    funct=x_sinx,\n",
    "    min_x=0,\n",
    "    max_x=5,\n",
    "    n_samples=600,\n",
    "    noise=0.5\n",
    ")"
   ]
  },
  {
   "cell_type": "markdown",
   "id": "22",
   "metadata": {},
   "source": [
    "Visualisons le jeu de données et leur fonction génératrice."
   ]
  },
  {
   "cell_type": "code",
   "execution_count": null,
   "id": "23",
   "metadata": {},
   "outputs": [],
   "source": [
    "plot_regression(\n",
    "    X_test,\n",
    "    y_test,\n",
    "    y_mesh,\n",
    "    name_mesh=\"Génératrice\",\n",
    "    title=\"Problème hétéroscédastique\",\n",
    ")"
   ]
  },
  {
   "cell_type": "markdown",
   "id": "24",
   "metadata": {},
   "source": [
    "**Exercice 3** : On souhaite à présent entraîner ce modèle via MAPIE et obtenir des intervalles de confiance à 95%.\n",
    "- Instancier un `CrossConformalRegressor` enrobant notre modèle polynomial avec la méthode CV+ avec 5 plis de validation croisée.\n",
    "- Entraîner le `CrossConformalRegressor` sur le jeu de données\n",
    "- Prédire sur le jeu de test avec un niveau de risque de 5%"
   ]
  },
  {
   "cell_type": "code",
   "execution_count": null,
   "id": "25",
   "metadata": {},
   "outputs": [],
   "source": []
  },
  {
   "cell_type": "markdown",
   "id": "26",
   "metadata": {},
   "source": [
    "Visualisons les intervalles de prédictions obtenus sur le jeu de test."
   ]
  },
  {
   "cell_type": "code",
   "execution_count": null,
   "id": "27",
   "metadata": {},
   "outputs": [],
   "source": [
    "plot_uncertainties(\n",
    "    X_test,\n",
    "    y_test,\n",
    "    y_preds,\n",
    "    y_pred_intervals,\n",
    "    title=\"Intervalles de prédiction avec niveau de confiance de 95%\"\n",
    ")"
   ]
  },
  {
   "cell_type": "markdown",
   "id": "28",
   "metadata": {},
   "source": [
    "Visualisons la largeur de l'intervalle de prédictions en fonction de $x$."
   ]
  },
  {
   "cell_type": "code",
   "execution_count": null,
   "id": "29",
   "metadata": {},
   "outputs": [],
   "source": [
    "plot_prediction_interval_width(\n",
    "    X_test,\n",
    "    y_pred_intervals,\n",
    "    title=\"Largeur des intervalles de prédictions\",\n",
    "    yaxis_title=\"Largeur\"\n",
    ")"
   ]
  },
  {
   "cell_type": "markdown",
   "id": "30",
   "metadata": {},
   "source": [
    "Ici on voit que l'intervalle de confiance est à peu près constant, et alors que le bruit dans les données ne l'est pas du tout !\n",
    "\n",
    "**Exercice 4** : calculer les métriques d'incertitudes :\n",
    "- le taux de couverture (`regression_coverage_score`)\n",
    "- la taille moyenne des intervalles de prédiction (`regression_mean_width_score`)\n",
    "- a-t-on bien atteint le taux de couverture cible de 95% ?"
   ]
  },
  {
   "cell_type": "code",
   "execution_count": null,
   "id": "31",
   "metadata": {},
   "outputs": [],
   "source": []
  },
  {
   "cell_type": "markdown",
   "id": "32",
   "metadata": {},
   "source": [
    "Ici, on voit que nos intervalle ne sont pas du tout adaptatifs ! Heureusement, il y a une solution : la régression quantile conforme. Instancions d'abord un modèle quantile."
   ]
  },
  {
   "cell_type": "code",
   "execution_count": null,
   "id": "33",
   "metadata": {},
   "outputs": [],
   "source": [
    "polyn_model_quant = Pipeline(\n",
    "    [\n",
    "        (\"poly\", PolynomialFeatures(degree=10)),\n",
    "        (\"linear\", QuantileRegressor(solver=\"highs\", alpha=0))\n",
    "    ]\n",
    ")"
   ]
  },
  {
   "cell_type": "markdown",
   "id": "34",
   "metadata": {},
   "source": [
    "**Exercice 5** : On souhaite à présent entraîner ce modèle via MAPIE et obtenir des intervalles de confiance à 95%.\n",
    "- Séparer les données d'entrée (`X` et `y`) en `X_train`, `X_conformalize`, `y_train`, `y_conformalize`\n",
    "- Instancier un `ConformalizedQuantileRegressor` enrobant notre modèle polynomial\n",
    "- Entraîner le `MapieQuantileRegressor` sur le jeu d'entraînement, et le conformaliser sur le jeu de conformalisation\n",
    "- Prédire sur le jeu de test avec un niveau de risque de 5%"
   ]
  },
  {
   "cell_type": "code",
   "execution_count": null,
   "id": "35",
   "metadata": {},
   "outputs": [],
   "source": []
  },
  {
   "cell_type": "markdown",
   "id": "36",
   "metadata": {},
   "source": [
    "Visualisons les intervalles de prédictions obtenus sur le jeu de test."
   ]
  },
  {
   "cell_type": "code",
   "execution_count": null,
   "id": "37",
   "metadata": {},
   "outputs": [],
   "source": [
    "plot_uncertainties(\n",
    "    X_test,\n",
    "    y_test,\n",
    "    y_preds,\n",
    "    y_pred_intervals,\n",
    "    title=\"Intervalles de prédiction avec niveau de confiance de 95%\"\n",
    ")"
   ]
  },
  {
   "cell_type": "markdown",
   "id": "38",
   "metadata": {},
   "source": [
    "Visualisons la largeur de l'intervalle de prédictions en fonction de $x$."
   ]
  },
  {
   "cell_type": "code",
   "execution_count": null,
   "id": "39",
   "metadata": {},
   "outputs": [],
   "source": [
    "plot_prediction_interval_width(\n",
    "    X_test,\n",
    "    y_pred_intervals,\n",
    "    title=\"Largeur des intervalles de prédictions\",\n",
    "    yaxis_title=\"Largeur\"\n",
    ")"
   ]
  },
  {
   "cell_type": "markdown",
   "id": "40",
   "metadata": {},
   "source": [
    "Ah ça y est ! On a bien capturé l'hétéroscédacticité !\n",
    "\n",
    "**Exercice 6** : calculer les métriques d'incertitudes :\n",
    "- le taux de couverture (`regression_coverage_score`)\n",
    "- la taille moyenne des intervalles de prédiction (`regression_mean_width_score`)\n",
    "- a-t-on bien atteint le taux de couverture cible de 95% ?"
   ]
  },
  {
   "cell_type": "code",
   "execution_count": null,
   "id": "41",
   "metadata": {},
   "outputs": [],
   "source": []
  },
  {
   "cell_type": "markdown",
   "id": "42",
   "metadata": {},
   "source": [
    "Bingo ! Le taux de couverture est toujours bon, et en plus la taille moyenne de nos intervalles a largement diminué !"
   ]
  },
  {
   "cell_type": "markdown",
   "id": "43",
   "metadata": {},
   "source": [
    "## Incertitude épistémique"
   ]
  },
  {
   "cell_type": "markdown",
   "id": "44",
   "metadata": {},
   "source": [
    "Commençons ici par construire un jeu de données artificiel. Nous utiliserons la fonction $f(x) = x\\sin(x)$ à laquelle nous ajoutons un bruit gaussien constant, mais dont les points de données sont répartis de manière inhomogène."
   ]
  },
  {
   "cell_type": "code",
   "execution_count": null,
   "id": "45",
   "metadata": {},
   "outputs": [],
   "source": [
    "X, y, X_test, y_test, y_mesh = get_1d_data_with_normal_distribution(\n",
    "    funct=x_sinx,\n",
    "    mu=0,\n",
    "    sigma=2,\n",
    "    n_samples=600,\n",
    "    noise=0.5\n",
    ")"
   ]
  },
  {
   "cell_type": "markdown",
   "id": "46",
   "metadata": {},
   "source": [
    "Visualisons le jeu de données et leur fonction génératrice."
   ]
  },
  {
   "cell_type": "code",
   "execution_count": null,
   "id": "47",
   "metadata": {},
   "outputs": [],
   "source": [
    "plot_regression(\n",
    "    X_test,\n",
    "    y_test,\n",
    "    y_mesh,\n",
    "    name_mesh=\"Génératrice\",\n",
    "    title=\"Problème épistémique\",\n",
    ")"
   ]
  },
  {
   "cell_type": "markdown",
   "id": "48",
   "metadata": {},
   "source": [
    "**Exercice 7** : On souhaite à présent entraîner ce modèle via MAPIE et obtenir des intervalles de confiance à 95%.\n",
    "- Séparer les données d'entrée (`X` et `y`) en `X_train`, `X_conformalize`, `y_train`, `y_conformalize`\n",
    "- Instancier un `ConformalizedQuantileRegressor` enrobant notre modèle polynomial\n",
    "- Entraîner le `MapieQuantileRegressor` sur le jeu d'entraînement, et le conformaliser sur le jeu de conformalisation\n",
    "- Prédire sur le jeu de test avec un niveau de risque de 5%"
   ]
  },
  {
   "cell_type": "code",
   "execution_count": null,
   "id": "49",
   "metadata": {},
   "outputs": [],
   "source": []
  },
  {
   "cell_type": "markdown",
   "id": "50",
   "metadata": {},
   "source": [
    "Visualisons les intervalles de prédictions obtenus sur le jeu de test."
   ]
  },
  {
   "cell_type": "code",
   "execution_count": null,
   "id": "51",
   "metadata": {},
   "outputs": [],
   "source": [
    "plot_uncertainties(\n",
    "    X_test,\n",
    "    y_test,\n",
    "    y_preds,\n",
    "    y_pred_intervals,\n",
    "    title=\"Intervalles de prédiction avec niveau de confiance de 95%\"\n",
    ")"
   ]
  },
  {
   "cell_type": "markdown",
   "id": "52",
   "metadata": {},
   "source": [
    "Visualisons la largeur de l'intervalle de prédictions en fonction de $x$."
   ]
  },
  {
   "cell_type": "code",
   "execution_count": null,
   "id": "53",
   "metadata": {},
   "outputs": [],
   "source": [
    "plot_prediction_interval_width(\n",
    "    X_test,\n",
    "    y_pred_intervals,\n",
    "    title=\"Largeur des intervalles de prédictions\",\n",
    "    yaxis_title=\"Largeur\"\n",
    ")"
   ]
  },
  {
   "cell_type": "markdown",
   "id": "54",
   "metadata": {},
   "source": [
    "On voit que les intervalles de confiance explosent quand la densité du jeu de données s'amoindrit, on a bien capté l'erreur épistémique !\n",
    "\n",
    "**Exercice 8** : calculer les métriques d'incertitudes :\n",
    "- le taux de couverture (`regression_coverage_score`)\n",
    "- la taille moyenne des intervalles de prédiction (`regression_mean_width_score`)\n",
    "- a-t-on bien atteint le taux de couverture cible de 95% ?"
   ]
  },
  {
   "cell_type": "code",
   "execution_count": null,
   "id": "55",
   "metadata": {},
   "outputs": [],
   "source": []
  },
  {
   "cell_type": "markdown",
   "id": "56",
   "metadata": {},
   "source": [
    "Bravo, vous maîtrisez les incertitudes en régression avec MAPIE !"
   ]
  }
 ],
 "metadata": {
  "jupytext": {
   "formats": "ipynb,md"
  },
  "kernelspec": {
   "display_name": "Python 3 (ipykernel)",
   "language": "python",
   "name": "python3"
  }
 },
 "nbformat": 4,
 "nbformat_minor": 5
}
