{
 "cells": [
  {
   "cell_type": "markdown",
   "id": "0",
   "metadata": {},
   "source": [
    "# Measuring Model Uncertainty in Regression with MAPIE\n",
    "---\n",
    "\n",
    "In this lab, we will estimate prediction intervals with MAPIE.\n",
    "\n",
    "We will determine the validity of our prediction intervals using two metrics:\n",
    "\n",
    "- The \"effective\" coverage, which is the percentage of test data included in the prediction intervals. For example, for a target confidence level of 90%, 90% of the test data should be within the produced intervals.\n",
    "- The average width of the prediction intervals, which should be as close as possible to the \"theoretical\" width used to generate data noise."
   ]
  },
  {
   "cell_type": "markdown",
   "id": "1",
   "metadata": {},
   "source": [
    "# Import"
   ]
  },
  {
   "cell_type": "code",
   "execution_count": null,
   "id": "2",
   "metadata": {},
   "outputs": [],
   "source": [
    "from sklearn.model_selection import train_test_split\n",
    "from sklearn.pipeline import Pipeline\n",
    "from sklearn.preprocessing import PolynomialFeatures\n",
    "from sklearn.linear_model import LinearRegression, QuantileRegressor\n",
    "from mapie.metrics.regression import regression_coverage_score, regression_mean_width_score\n",
    "from mapie.regression import CrossConformalRegressor, ConformalizedQuantileRegressor\n",
    "\n",
    "from utils.dataset import (\n",
    "    x_sinx,\n",
    "    get_1d_data_with_constant_noise,\n",
    "    get_1d_data_with_heteroscedastic_noise,\n",
    "    get_1d_data_with_normal_distribution,\n",
    ")\n",
    "from utils.viz import (\n",
    "    plot_regression,\n",
    "    plot_uncertainties,\n",
    "    plot_prediction_interval_width,\n",
    ")"
   ]
  },
  {
   "cell_type": "markdown",
   "id": "3",
   "metadata": {},
   "source": [
    "# Uncertainty in Regression"
   ]
  },
  {
   "cell_type": "markdown",
   "id": "4",
   "metadata": {},
   "source": [
    "## Homoscedastic Noise"
   ]
  },
  {
   "cell_type": "markdown",
   "id": "5",
   "metadata": {},
   "source": [
    "Let's start by building an artificial dataset. We will use the function $f(x) = x\\sin(x)$ to which we add constant Gaussian noise."
   ]
  },
  {
   "cell_type": "code",
   "execution_count": null,
   "id": "6",
   "metadata": {},
   "outputs": [],
   "source": [
    "X, y, X_test, y_test, y_mesh = get_1d_data_with_constant_noise(\n",
    "    funct=x_sinx,\n",
    "    min_x=-5,\n",
    "    max_x=5,\n",
    "    n_samples=600,\n",
    "    noise=0.5\n",
    ")"
   ]
  },
  {
   "cell_type": "markdown",
   "id": "7",
   "metadata": {},
   "source": [
    "Let's visualize the dataset and its generating function."
   ]
  },
  {
   "cell_type": "code",
   "execution_count": null,
   "id": "8",
   "metadata": {},
   "outputs": [],
   "source": [
    "plot_regression(\n",
    "    X_test,\n",
    "    y_test,\n",
    "    y_mesh,\n",
    "    name_mesh=\"Generator\",\n",
    "    title=\"Homoscedastic Problem\",\n",
    ")"
   ]
  },
  {
   "cell_type": "markdown",
   "id": "9",
   "metadata": {},
   "source": [
    "We will learn a polynomial model to fit the data."
   ]
  },
  {
   "cell_type": "code",
   "execution_count": null,
   "id": "10",
   "metadata": {},
   "outputs": [],
   "source": [
    "polyn_model = Pipeline(\n",
    "    [\n",
    "        (\"poly\", PolynomialFeatures(degree=10)),\n",
    "        (\"linear\", LinearRegression())\n",
    "    ]\n",
    ")"
   ]
  },
  {
   "cell_type": "markdown",
   "id": "11",
   "metadata": {},
   "source": [
    "**Exercise 1**: We now want to train this model with MAPIE and obtain 95% confidence intervals.\n",
    "- Instantiate a `CrossConformalRegressor` wrapping our polynomial model with the CV+ method with 5 cross-validation folds, and a confidence level of 95%.\n",
    "- Train and conformalize the `CrossConformalRegressor` on the dataset.\n",
    "- Predict on the test set."
   ]
  },
  {
   "cell_type": "code",
   "execution_count": null,
   "id": "12",
   "metadata": {},
   "outputs": [],
   "source": []
  },
  {
   "cell_type": "markdown",
   "id": "13",
   "metadata": {},
   "source": [
    "Let's visualize the prediction intervals obtained on the test set."
   ]
  },
  {
   "cell_type": "code",
   "execution_count": null,
   "id": "14",
   "metadata": {},
   "outputs": [],
   "source": [
    "plot_uncertainties(\n",
    "    X_test,\n",
    "    y_test,\n",
    "    y_preds,\n",
    "    y_pred_intervals,\n",
    "    title=\"Prediction Intervals with 95% Confidence Level\"\n",
    ")"
   ]
  },
  {
   "cell_type": "markdown",
   "id": "15",
   "metadata": {},
   "source": [
    "Let's visualize the width of the prediction interval as a function of $x$."
   ]
  },
  {
   "cell_type": "code",
   "execution_count": null,
   "id": "16",
   "metadata": {},
   "outputs": [],
   "source": [
    "plot_prediction_interval_width(\n",
    "    X_test,\n",
    "    y_pred_intervals,\n",
    "    title=\"Width of Prediction Intervals\",\n",
    "    yaxis_title=\"Width\"\n",
    ")"
   ]
  },
  {
   "cell_type": "markdown",
   "id": "17",
   "metadata": {},
   "source": [
    "Here we see that the confidence interval is roughly constant, which is expected given the homoscedasticity of the problem!\n",
    "\n",
    "**Exercise 2**: calculate the uncertainty metrics:\n",
    "- Coverage rate (`regression_coverage_score`)\n",
    "- Average size of prediction intervals (`regression_mean_width_score`)\n",
    "- Did we achieve the target coverage rate of 95%?\n",
    "- The theoretical size of the intervals is `1.96`. Is the average size of the intervals predicted by MAPIE larger? Smaller?"
   ]
  },
  {
   "cell_type": "code",
   "execution_count": null,
   "id": "18",
   "metadata": {},
   "outputs": [],
   "source": []
  },
  {
   "cell_type": "markdown",
   "id": "19",
   "metadata": {},
   "source": [
    "## Heteroscedastic Noise"
   ]
  },
  {
   "cell_type": "markdown",
   "id": "20",
   "metadata": {},
   "source": [
    "Let's start by building an artificial dataset. We will use the function $f(x) = x\\sin(x)$ to which we add Gaussian noise proportional to $x$."
   ]
  },
  {
   "cell_type": "code",
   "execution_count": null,
   "id": "21",
   "metadata": {},
   "outputs": [],
   "source": [
    "X, y, X_test, y_test, y_mesh = get_1d_data_with_heteroscedastic_noise(\n",
    "    funct=x_sinx,\n",
    "    min_x=0,\n",
    "    max_x=5,\n",
    "    n_samples=600,\n",
    "    noise=0.5\n",
    ")"
   ]
  },
  {
   "cell_type": "markdown",
   "id": "22",
   "metadata": {},
   "source": [
    "Let's visualize the dataset and its generating function."
   ]
  },
  {
   "cell_type": "code",
   "execution_count": null,
   "id": "23",
   "metadata": {},
   "outputs": [],
   "source": [
    "plot_regression(\n",
    "    X_test,\n",
    "    y_test,\n",
    "    y_mesh,\n",
    "    name_mesh=\"Generator\",\n",
    "    title=\"Heteroscedastic Problem\",\n",
    ")"
   ]
  },
  {
   "cell_type": "markdown",
   "id": "24",
   "metadata": {},
   "source": [
    "In this setting, using a `CrossConformalRegressor` would result in a confidence interval being roughly constant, even though the noise in the data is not at all!\n",
    "Fortunately, there is a solution to obtain adaptive prediction intervals: conformalized quantile regression. Let's first instantiate a quantile model."
   ]
  },
  {
   "cell_type": "code",
   "execution_count": null,
   "id": "25",
   "metadata": {},
   "outputs": [],
   "source": [
    "polyn_model_quant = Pipeline(\n",
    "    [\n",
    "        (\"poly\", PolynomialFeatures(degree=10)),\n",
    "        (\"linear\", QuantileRegressor(solver=\"highs\", alpha=0))\n",
    "    ]\n",
    ")"
   ]
  },
  {
   "cell_type": "markdown",
   "id": "26",
   "metadata": {},
   "source": [
    "**Exercise 3**: We now want to train this model with MAPIE and obtain 95% confidence intervals.\n",
    "- Split the input data (`X` and `y`) into `X_train`, `X_conformalize`, `y_train`, `y_conformalize`\n",
    "- Instantiate a `ConformalizedQuantileRegressor` wrapping our polynomial model with a confidence level of 95%\n",
    "- Train the `MapieQuantileRegressor` on the training set, and conformalize it on the conformalization set\n",
    "- Predict on the test set."
   ]
  },
  {
   "cell_type": "code",
   "execution_count": null,
   "id": "27",
   "metadata": {},
   "outputs": [],
   "source": []
  },
  {
   "cell_type": "markdown",
   "id": "28",
   "metadata": {},
   "source": [
    "Let's visualize the prediction intervals obtained on the test set."
   ]
  },
  {
   "cell_type": "code",
   "execution_count": null,
   "id": "29",
   "metadata": {},
   "outputs": [],
   "source": [
    "plot_uncertainties(\n",
    "    X_test,\n",
    "    y_test,\n",
    "    y_preds,\n",
    "    y_pred_intervals,\n",
    "    title=\"Prediction Intervals with 95% Confidence Level\"\n",
    ")"
   ]
  },
  {
   "cell_type": "markdown",
   "id": "30",
   "metadata": {},
   "source": [
    "Let's visualize the width of the prediction interval as a function of $x$."
   ]
  },
  {
   "cell_type": "code",
   "execution_count": null,
   "id": "31",
   "metadata": {},
   "outputs": [],
   "source": [
    "plot_prediction_interval_width(\n",
    "    X_test,\n",
    "    y_pred_intervals,\n",
    "    title=\"Width of Prediction Intervals\",\n",
    "    yaxis_title=\"Width\"\n",
    ")"
   ]
  },
  {
   "cell_type": "markdown",
   "id": "32",
   "metadata": {},
   "source": [
    "Ah, there it is! We have captured the heteroscedasticity well!\n",
    "\n",
    "**Exercise 4**: calculate the uncertainty metrics:\n",
    "- Coverage rate (`regression_coverage_score`)\n",
    "- Average size of prediction intervals (`regression_mean_width_score`)\n",
    "- Did we achieve the target coverage rate of 95%?"
   ]
  },
  {
   "cell_type": "code",
   "execution_count": null,
   "id": "33",
   "metadata": {},
   "outputs": [],
   "source": []
  },
  {
   "cell_type": "markdown",
   "id": "34",
   "metadata": {},
   "source": [
    "Bingo! The coverage rate is still good, and the average size of our intervals is significantly lower than if we had used a `CrossConformalRegressor`!"
   ]
  },
  {
   "cell_type": "markdown",
   "id": "35",
   "metadata": {},
   "source": [
    "## Epistemic Uncertainty"
   ]
  },
  {
   "cell_type": "markdown",
   "id": "36",
   "metadata": {},
   "source": [
    "Let's start by building an artificial dataset. We will use the function $f(x) = x\\sin(x)$ to which we add constant Gaussian noise, but with data points distributed non-uniformly."
   ]
  },
  {
   "cell_type": "code",
   "execution_count": null,
   "id": "37",
   "metadata": {},
   "outputs": [],
   "source": [
    "X, y, X_test, y_test, y_mesh = get_1d_data_with_normal_distribution(\n",
    "    funct=x_sinx,\n",
    "    mu=0,\n",
    "    sigma=2,\n",
    "    n_samples=600,\n",
    "    noise=0.5\n",
    ")"
   ]
  },
  {
   "cell_type": "markdown",
   "id": "38",
   "metadata": {},
   "source": [
    "Let's visualize the dataset and its generating function."
   ]
  },
  {
   "cell_type": "code",
   "execution_count": null,
   "id": "39",
   "metadata": {},
   "outputs": [],
   "source": [
    "plot_regression(\n",
    "    X_test,\n",
    "    y_test,\n",
    "    y_mesh,\n",
    "    name_mesh=\"Generator\",\n",
    "    title=\"Epistemic Problem\",\n",
    ")"
   ]
  },
  {
   "cell_type": "markdown",
   "id": "40",
   "metadata": {},
   "source": [
    "**Exercise 5**: We now want to train this model with MAPIE and obtain 95% confidence intervals.\n",
    "- Split the input data (`X` and `y`) into `X_train`, `X_conformalize`, `y_train`, `y_conformalize`\n",
    "- Instantiate a `ConformalizedQuantileRegressor` wrapping our polynomial model with a confidence level of 95%\n",
    "- Train the `MapieQuantileRegressor` on the training set, and conformalize it on the conformalization set\n",
    "- Predict on the test set."
   ]
  },
  {
   "cell_type": "code",
   "execution_count": null,
   "id": "41",
   "metadata": {},
   "outputs": [],
   "source": []
  },
  {
   "cell_type": "markdown",
   "id": "42",
   "metadata": {},
   "source": [
    "Let's visualize the prediction intervals obtained on the test set."
   ]
  },
  {
   "cell_type": "code",
   "execution_count": null,
   "id": "43",
   "metadata": {},
   "outputs": [],
   "source": [
    "plot_uncertainties(\n",
    "    X_test,\n",
    "    y_test,\n",
    "    y_preds,\n",
    "    y_pred_intervals,\n",
    "    title=\"Prediction Intervals with 95% Confidence Level\"\n",
    ")"
   ]
  },
  {
   "cell_type": "markdown",
   "id": "44",
   "metadata": {},
   "source": [
    "Let's visualize the width of the prediction interval as a function of $x$."
   ]
  },
  {
   "cell_type": "code",
   "execution_count": null,
   "id": "45",
   "metadata": {},
   "outputs": [],
   "source": [
    "plot_prediction_interval_width(\n",
    "    X_test,\n",
    "    y_pred_intervals,\n",
    "    title=\"Width of Prediction Intervals\",\n",
    "    yaxis_title=\"Width\"\n",
    ")"
   ]
  },
  {
   "cell_type": "markdown",
   "id": "46",
   "metadata": {},
   "source": [
    "We see that the confidence intervals explode when the density of the dataset decreases, capturing the epistemic error well!\n",
    "\n",
    "**Exercise 6**: calculate the uncertainty metrics:\n",
    "- Coverage rate (`regression_coverage_score`)\n",
    "- Average size of prediction intervals (`regression_mean_width_score`)\n",
    "- Did we achieve the target coverage rate of 95%?"
   ]
  },
  {
   "cell_type": "code",
   "execution_count": null,
   "id": "47",
   "metadata": {},
   "outputs": [],
   "source": []
  },
  {
   "cell_type": "markdown",
   "id": "48",
   "metadata": {},
   "source": [
    "Congratulations, you have mastered uncertainties in regression with MAPIE!"
   ]
  }
 ],
 "metadata": {
  "jupytext": {
   "formats": "ipynb,md"
  },
  "kernelspec": {
   "display_name": "Python 3 (ipykernel)",
   "language": "python",
   "name": "python3"
  }
 },
 "nbformat": 4,
 "nbformat_minor": 5
}
